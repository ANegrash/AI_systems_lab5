{
  "cells": [
    {
      "cell_type": "code",
      "execution_count": 1,
      "metadata": {
        "colab": {
          "base_uri": "https://localhost:8080/"
        },
        "id": "Y5Db0hFswuX6",
        "outputId": "d69613ad-b486-4036-bd72-822d2538c3fd"
      },
      "outputs": [
        {
          "output_type": "stream",
          "name": "stdout",
          "text": [
            "Looking in indexes: https://pypi.org/simple, https://us-python.pkg.dev/colab-wheels/public/simple/\n",
            "Requirement already satisfied: pip in /usr/local/lib/python3.7/dist-packages (21.1.3)\n",
            "Collecting pip\n",
            "  Downloading pip-22.3.1-py3-none-any.whl (2.1 MB)\n",
            "\u001b[K     |████████████████████████████████| 2.1 MB 8.4 MB/s \n",
            "\u001b[?25hInstalling collected packages: pip\n",
            "  Attempting uninstall: pip\n",
            "    Found existing installation: pip 21.1.3\n",
            "    Uninstalling pip-21.1.3:\n",
            "      Successfully uninstalled pip-21.1.3\n",
            "Successfully installed pip-22.3.1\n",
            "Looking in indexes: https://pypi.org/simple, https://us-python.pkg.dev/colab-wheels/public/simple/\n",
            "Requirement already satisfied: scikit-learn in /usr/local/lib/python3.7/dist-packages (1.0.2)\n",
            "Requirement already satisfied: scipy>=1.1.0 in /usr/local/lib/python3.7/dist-packages (from scikit-learn) (1.7.3)\n",
            "Requirement already satisfied: numpy>=1.14.6 in /usr/local/lib/python3.7/dist-packages (from scikit-learn) (1.21.6)\n",
            "Requirement already satisfied: joblib>=0.11 in /usr/local/lib/python3.7/dist-packages (from scikit-learn) (1.2.0)\n",
            "Requirement already satisfied: threadpoolctl>=2.0.0 in /usr/local/lib/python3.7/dist-packages (from scikit-learn) (3.1.0)\n",
            "\u001b[33mWARNING: Running pip as the 'root' user can result in broken permissions and conflicting behaviour with the system package manager. It is recommended to use a virtual environment instead: https://pip.pypa.io/warnings/venv\u001b[0m\u001b[33m\n",
            "\u001b[0m"
          ]
        }
      ],
      "source": [
        "!pip install --upgrade pip\n",
        "!pip install --upgrade scikit-learn"
      ]
    },
    {
      "cell_type": "code",
      "execution_count": 2,
      "metadata": {
        "id": "s9JFQi3awuX_"
      },
      "outputs": [],
      "source": [
        "import numpy as np\n",
        "import matplotlib\n",
        "import matplotlib.pyplot as plt\n",
        "%matplotlib inline"
      ]
    },
    {
      "cell_type": "code",
      "source": [
        "VARIANT_NUMBER = 15"
      ],
      "metadata": {
        "id": "TE6E__pPUowm"
      },
      "execution_count": 3,
      "outputs": []
    },
    {
      "cell_type": "code",
      "execution_count": 4,
      "metadata": {
        "id": "3fmJ6As2wuYE",
        "colab": {
          "base_uri": "https://localhost:8080/"
        },
        "outputId": "025b8c6e-04f8-4d53-be50-5f9e0a33ece4"
      },
      "outputs": [
        {
          "output_type": "stream",
          "name": "stdout",
          "text": [
            "Downloading data from https://storage.googleapis.com/tensorflow/tf-keras-datasets/mnist.npz\n",
            "11490434/11490434 [==============================] - 0s 0us/step\n"
          ]
        }
      ],
      "source": [
        "from keras.datasets import mnist\n",
        "(X_train, y_train), (X_pred, y_pred) = mnist.load_data()"
      ]
    },
    {
      "cell_type": "code",
      "execution_count": 5,
      "metadata": {
        "colab": {
          "base_uri": "https://localhost:8080/",
          "height": 282
        },
        "id": "VRqvghOEwuYH",
        "outputId": "f2a3948c-fbee-4de5-93e5-b961673f37dd"
      },
      "outputs": [
        {
          "output_type": "stream",
          "name": "stdout",
          "text": [
            "5\n"
          ]
        },
        {
          "output_type": "display_data",
          "data": {
            "text/plain": [
              "<Figure size 432x288 with 1 Axes>"
            ],
            "image/png": "[encoded data removed]"
          },
          "metadata": {
            "needs_background": "light"
          }
        }
      ],
      "source": [
        "plt.imshow(X_train[0], cmap=\"gray\")\n",
        "print(y_train[0])"
      ]
    },
    {
      "cell_type": "code",
      "execution_count": 6,
      "metadata": {
        "id": "Ky3TFgo-wuYO"
      },
      "outputs": [],
      "source": [
        "from sklearn.model_selection import train_test_split\n",
        "\n",
        "X_train, X_test, y_train, y_test = train_test_split(X_train, y_train, test_size=0.2, random_state=VARIANT_NUMBER)\n",
        "\n",
        "dim = 28*28\n",
        "X_train = X_train.reshape(len(X_train), dim)\n",
        "X_test = X_test.reshape(len(X_test), dim)"
      ]
    },
    {
      "cell_type": "code",
      "execution_count": 7,
      "metadata": {
        "id": "ZnvBJSY4wuYT"
      },
      "outputs": [],
      "source": [
        "# уменьшим размерность\n",
        "from sklearn.decomposition import PCA\n",
        "\n",
        "pca = PCA(svd_solver='full')\n",
        "modelPCA = pca.fit(X_train) \n",
        "X_train = modelPCA.transform(X_train)"
      ]
    },
    {
      "cell_type": "code",
      "execution_count": 8,
      "metadata": {
        "scrolled": true,
        "colab": {
          "base_uri": "https://localhost:8080/"
        },
        "id": "DqUzHt7AwuYU",
        "outputId": "e7d36b1a-8aeb-4153-c3f5-6b640311491f"
      },
      "outputs": [
        {
          "output_type": "execute_result",
          "data": {
            "text/plain": [
              "array([0.097, 0.168, 0.23 , 0.283, 0.332, 0.375, 0.408, 0.437, 0.464,\n",
              "       0.488, 0.509, 0.529, 0.547, 0.563, 0.579, 0.594, 0.607, 0.62 ,\n",
              "       0.632, 0.643, 0.654, 0.664, 0.674, 0.683, 0.692, 0.7  , 0.708,\n",
              "       0.716, 0.724, 0.73 , 0.737, 0.744, 0.75 , 0.755, 0.761, 0.767,\n",
              "       0.772, 0.777, 0.781, 0.786, 0.791, 0.795, 0.799, 0.803, 0.807,\n",
              "       0.811, 0.814, 0.818, 0.821, 0.825, 0.828, 0.831, 0.834, 0.837,\n",
              "       0.84 , 0.842, 0.845, 0.848, 0.85 , 0.853, 0.855, 0.857, 0.86 ,\n",
              "       0.862, 0.864, 0.866, 0.868, 0.87 , 0.872, 0.874, 0.876, 0.878,\n",
              "       0.879, 0.881, 0.883, 0.884, 0.886, 0.888, 0.889, 0.891, 0.892,\n",
              "       0.893, 0.895, 0.896, 0.897, 0.899, 0.9  , 0.901, 0.903, 0.904,\n",
              "       0.905, 0.906, 0.907, 0.908, 0.909, 0.911, 0.912, 0.913, 0.914,\n",
              "       0.915, 0.916, 0.917, 0.917, 0.918, 0.919, 0.92 , 0.921, 0.922,\n",
              "       0.923, 0.924, 0.924, 0.925, 0.926, 0.927, 0.927, 0.928, 0.929,\n",
              "       0.93 , 0.93 , 0.931, 0.932, 0.933, 0.933, 0.934, 0.935, 0.935,\n",
              "       0.936, 0.936, 0.937, 0.938, 0.938, 0.939, 0.939, 0.94 , 0.941,\n",
              "       0.941, 0.942, 0.942, 0.943, 0.943, 0.944, 0.944, 0.945, 0.945,\n",
              "       0.946, 0.946, 0.947, 0.947, 0.948, 0.948, 0.949, 0.949, 0.95 ,\n",
              "       0.95 , 0.951, 0.951, 0.952, 0.952, 0.952, 0.953, 0.953, 0.954,\n",
              "       0.954, 0.954, 0.955, 0.955, 0.956, 0.956, 0.956, 0.957, 0.957,\n",
              "       0.957, 0.958, 0.958, 0.959, 0.959, 0.959, 0.96 , 0.96 , 0.96 ,\n",
              "       0.961, 0.961, 0.961, 0.962, 0.962, 0.962, 0.963, 0.963, 0.963,\n",
              "       0.963, 0.964, 0.964, 0.964, 0.965, 0.965, 0.965, 0.966, 0.966,\n",
              "       0.966, 0.966, 0.967, 0.967, 0.967, 0.968, 0.968, 0.968, 0.968,\n",
              "       0.969, 0.969, 0.969, 0.969, 0.97 , 0.97 , 0.97 , 0.97 , 0.971,\n",
              "       0.971, 0.971, 0.971, 0.972, 0.972, 0.972, 0.972, 0.973, 0.973,\n",
              "       0.973, 0.973, 0.974, 0.974, 0.974, 0.974, 0.974, 0.975, 0.975,\n",
              "       0.975, 0.975, 0.975, 0.976, 0.976, 0.976, 0.976, 0.977, 0.977,\n",
              "       0.977, 0.977, 0.977, 0.978, 0.978, 0.978, 0.978, 0.978, 0.978,\n",
              "       0.979, 0.979, 0.979, 0.979, 0.979, 0.98 , 0.98 , 0.98 , 0.98 ,\n",
              "       0.98 , 0.98 , 0.981, 0.981, 0.981, 0.981, 0.981, 0.982, 0.982,\n",
              "       0.982, 0.982, 0.982, 0.982, 0.983, 0.983, 0.983, 0.983, 0.983,\n",
              "       0.983, 0.983, 0.984, 0.984, 0.984, 0.984, 0.984, 0.984, 0.985,\n",
              "       0.985, 0.985, 0.985, 0.985, 0.985, 0.985, 0.986, 0.986, 0.986,\n",
              "       0.986, 0.986, 0.986, 0.986, 0.986, 0.987, 0.987, 0.987, 0.987,\n",
              "       0.987, 0.987, 0.987, 0.988, 0.988, 0.988, 0.988, 0.988, 0.988,\n",
              "       0.988, 0.988, 0.989, 0.989, 0.989, 0.989, 0.989, 0.989, 0.989,\n",
              "       0.989, 0.989, 0.99 , 0.99 , 0.99 , 0.99 , 0.99 , 0.99 , 0.99 ,\n",
              "       0.99 , 0.99 , 0.991, 0.991, 0.991, 0.991, 0.991, 0.991, 0.991,\n",
              "       0.991, 0.991, 0.991, 0.992, 0.992, 0.992, 0.992, 0.992, 0.992,\n",
              "       0.992, 0.992, 0.992, 0.992, 0.993, 0.993, 0.993, 0.993, 0.993,\n",
              "       0.993, 0.993, 0.993, 0.993, 0.993, 0.993, 0.993, 0.994, 0.994,\n",
              "       0.994, 0.994, 0.994, 0.994, 0.994, 0.994, 0.994, 0.994, 0.994,\n",
              "       0.994, 0.994, 0.995, 0.995, 0.995, 0.995, 0.995, 0.995, 0.995,\n",
              "       0.995, 0.995, 0.995, 0.995, 0.995, 0.995, 0.995, 0.996, 0.996,\n",
              "       0.996, 0.996, 0.996, 0.996, 0.996, 0.996, 0.996, 0.996, 0.996,\n",
              "       0.996, 0.996, 0.996, 0.996, 0.996, 0.996, 0.996, 0.997, 0.997,\n",
              "       0.997, 0.997, 0.997, 0.997, 0.997, 0.997, 0.997, 0.997, 0.997,\n",
              "       0.997, 0.997, 0.997, 0.997, 0.997, 0.997, 0.997, 0.997, 0.997,\n",
              "       0.997, 0.998, 0.998, 0.998, 0.998, 0.998, 0.998, 0.998, 0.998,\n",
              "       0.998, 0.998, 0.998, 0.998, 0.998, 0.998, 0.998, 0.998, 0.998,\n",
              "       0.998, 0.998, 0.998, 0.998, 0.998, 0.998, 0.998, 0.998, 0.998,\n",
              "       0.998, 0.998, 0.998, 0.998, 0.999, 0.999, 0.999, 0.999, 0.999,\n",
              "       0.999, 0.999, 0.999, 0.999, 0.999, 0.999, 0.999, 0.999, 0.999,\n",
              "       0.999, 0.999, 0.999, 0.999, 0.999, 0.999, 0.999, 0.999, 0.999,\n",
              "       0.999, 0.999, 0.999, 0.999, 0.999, 0.999, 0.999, 0.999, 0.999,\n",
              "       0.999, 0.999, 0.999, 0.999, 0.999, 0.999, 0.999, 0.999, 0.999,\n",
              "       0.999, 0.999, 0.999, 0.999, 0.999, 0.999, 0.999, 0.999, 0.999,\n",
              "       0.999, 0.999, 0.999, 0.999, 0.999, 1.   , 1.   , 1.   , 1.   ,\n",
              "       1.   , 1.   , 1.   , 1.   , 1.   , 1.   , 1.   , 1.   , 1.   ,\n",
              "       1.   , 1.   , 1.   , 1.   , 1.   , 1.   , 1.   , 1.   , 1.   ,\n",
              "       1.   , 1.   , 1.   , 1.   , 1.   , 1.   , 1.   , 1.   , 1.   ,\n",
              "       1.   , 1.   , 1.   , 1.   , 1.   , 1.   , 1.   , 1.   , 1.   ,\n",
              "       1.   , 1.   , 1.   , 1.   , 1.   , 1.   , 1.   , 1.   , 1.   ,\n",
              "       1.   , 1.   , 1.   , 1.   , 1.   , 1.   , 1.   , 1.   , 1.   ,\n",
              "       1.   , 1.   , 1.   , 1.   , 1.   , 1.   , 1.   , 1.   , 1.   ,\n",
              "       1.   , 1.   , 1.   , 1.   , 1.   , 1.   , 1.   , 1.   , 1.   ,\n",
              "       1.   , 1.   , 1.   , 1.   , 1.   , 1.   , 1.   , 1.   , 1.   ,\n",
              "       1.   , 1.   , 1.   , 1.   , 1.   , 1.   , 1.   , 1.   , 1.   ,\n",
              "       1.   , 1.   , 1.   , 1.   , 1.   , 1.   , 1.   , 1.   , 1.   ,\n",
              "       1.   , 1.   , 1.   , 1.   , 1.   , 1.   , 1.   , 1.   , 1.   ,\n",
              "       1.   , 1.   , 1.   , 1.   , 1.   , 1.   , 1.   , 1.   , 1.   ,\n",
              "       1.   , 1.   , 1.   , 1.   , 1.   , 1.   , 1.   , 1.   , 1.   ,\n",
              "       1.   , 1.   , 1.   , 1.   , 1.   , 1.   , 1.   , 1.   , 1.   ,\n",
              "       1.   , 1.   , 1.   , 1.   , 1.   , 1.   , 1.   , 1.   , 1.   ,\n",
              "       1.   , 1.   , 1.   , 1.   , 1.   , 1.   , 1.   , 1.   , 1.   ,\n",
              "       1.   , 1.   , 1.   , 1.   , 1.   , 1.   , 1.   , 1.   , 1.   ,\n",
              "       1.   , 1.   , 1.   , 1.   , 1.   , 1.   , 1.   , 1.   , 1.   ,\n",
              "       1.   , 1.   , 1.   , 1.   , 1.   , 1.   , 1.   , 1.   , 1.   ,\n",
              "       1.   , 1.   , 1.   , 1.   , 1.   , 1.   , 1.   , 1.   , 1.   ,\n",
              "       1.   , 1.   , 1.   , 1.   , 1.   , 1.   , 1.   , 1.   , 1.   ,\n",
              "       1.   , 1.   , 1.   , 1.   , 1.   , 1.   , 1.   , 1.   , 1.   ,\n",
              "       1.   , 1.   , 1.   , 1.   , 1.   , 1.   , 1.   , 1.   , 1.   ,\n",
              "       1.   , 1.   , 1.   , 1.   , 1.   , 1.   , 1.   , 1.   , 1.   ,\n",
              "       1.   , 1.   , 1.   , 1.   , 1.   , 1.   , 1.   , 1.   , 1.   ,\n",
              "       1.   , 1.   , 1.   , 1.   , 1.   , 1.   , 1.   , 1.   , 1.   ,\n",
              "       1.   , 1.   , 1.   , 1.   , 1.   , 1.   , 1.   , 1.   , 1.   ,\n",
              "       1.   , 1.   , 1.   , 1.   , 1.   , 1.   , 1.   , 1.   , 1.   ,\n",
              "       1.   ])"
            ]
          },
          "metadata": {},
          "execution_count": 8
        }
      ],
      "source": [
        "# доля объясненной дисперсии\n",
        "explained_variance = np.round(np.cumsum(pca.explained_variance_ratio_),3)\n",
        "explained_variance"
      ]
    },
    {
      "cell_type": "code",
      "source": [
        "plt.plot(np.arange(len(explained_variance)), explained_variance, ls = '-')"
      ],
      "metadata": {
        "colab": {
          "base_uri": "https://localhost:8080/",
          "height": 282
        },
        "id": "brYQfNwnzgr8",
        "outputId": "baef29bd-75ff-42e1-8ddf-0946dbd32716"
      },
      "execution_count": 9,
      "outputs": [
        {
          "output_type": "execute_result",
          "data": {
            "text/plain": [
              "[<matplotlib.lines.Line2D at 0x7f4987c135d0>]"
            ]
          },
          "metadata": {},
          "execution_count": 9
        },
        {
          "output_type": "display_data",
          "data": {
            "text/plain": [
              "<Figure size 432x288 with 1 Axes>"
            ],
            "image/png": "[encoded data removed]"
          },
          "metadata": {
            "needs_background": "light"
          }
        }
      ]
    },
    {
      "cell_type": "code",
      "execution_count": 10,
      "metadata": {
        "colab": {
          "base_uri": "https://localhost:8080/"
        },
        "id": "hKg3cDUdwuYX",
        "outputId": "e0b2ce61-de3c-4b78-b6cd-00a02dcbf65a"
      },
      "outputs": [
        {
          "output_type": "stream",
          "name": "stdout",
          "text": [
            "0.85\n",
            "Dimension: 60\n"
          ]
        }
      ],
      "source": [
        "var = round(0.80 + (VARIANT_NUMBER % 10) / 100, 2)\n",
        "print(var)\n",
        "dimensions = -1\n",
        "for k, v in enumerate(explained_variance):\n",
        "    if v > var:\n",
        "        dimensions = k + 1\n",
        "        break\n",
        "print(\"Dimension:\", dimensions)"
      ]
    },
    {
      "cell_type": "code",
      "execution_count": 11,
      "metadata": {
        "id": "4OEFHeh8wuYa"
      },
      "outputs": [],
      "source": [
        "pca = PCA(n_components=dimensions, svd_solver='full')\n",
        "modelPCA = pca.fit(X_train) \n",
        "\n",
        "X_train = modelPCA.transform(X_train)"
      ]
    },
    {
      "cell_type": "code",
      "execution_count": 12,
      "metadata": {
        "id": "Z_RlZgJKwuYc"
      },
      "outputs": [],
      "source": [
        "from sklearn.multiclass import OneVsRestClassifier\n",
        "from sklearn.ensemble import RandomForestClassifier\n",
        "\n",
        "tree = RandomForestClassifier(criterion='gini', min_samples_leaf=10, max_depth=20, n_estimators=10, random_state=VARIANT_NUMBER)\n",
        "clf = OneVsRestClassifier(tree).fit(X_train, y_train)"
      ]
    },
    {
      "cell_type": "code",
      "execution_count": 13,
      "metadata": {
        "id": "6Eg2c89JwuYf"
      },
      "outputs": [],
      "source": [
        "# применим полученное раннее преобразование к тестовым данным\n",
        "modelPCA = pca.fit(X_test) \n",
        "X_test_transf = modelPCA.transform(X_test)"
      ]
    },
    {
      "cell_type": "code",
      "execution_count": 14,
      "metadata": {
        "id": "MoxjIxRQwuYh"
      },
      "outputs": [],
      "source": [
        "y_pred = clf.predict(X_test_transf)"
      ]
    },
    {
      "cell_type": "code",
      "execution_count": 15,
      "metadata": {
        "colab": {
          "base_uri": "https://localhost:8080/"
        },
        "id": "542RjQhlwuYh",
        "outputId": "928f59ef-3f95-4d60-d2ca-1a1b03172d01"
      },
      "outputs": [
        {
          "output_type": "stream",
          "name": "stdout",
          "text": [
            "[[1022    0   32   11    4   92   22   13    4    6]\n",
            " [   1 1258   16   27    8    2   14    8   16    3]\n",
            " [  21   12  921   30   42   13   59   21   36   20]\n",
            " [  30    7   58  916   15   81   15   16   89    8]\n",
            " [   3    9   22    7  894   10   26   11   55  150]\n",
            " [ 123    6   59  193   30  463   45   27   79   53]\n",
            " [  27    7   61   23   21   40  963    4    9   18]\n",
            " [  21   23   19    2   30   11    8 1046   20   50]\n",
            " [  21    7   71  116    6   52   11    7  836   44]\n",
            " [  12   29   22   41  320   62   27  114   67  498]]\n"
          ]
        }
      ],
      "source": [
        "from sklearn.metrics import confusion_matrix\n",
        "m_confusion = confusion_matrix(y_test, y_pred)\n",
        "print(m_confusion)"
      ]
    },
    {
      "cell_type": "raw",
      "metadata": {
        "id": "Lk-bmQ3LwuYk"
      },
      "source": [
        "Число верно классифицирвоанных объектов класс 0"
      ]
    },
    {
      "cell_type": "code",
      "execution_count": 16,
      "metadata": {
        "colab": {
          "base_uri": "https://localhost:8080/"
        },
        "id": "dcupsgMbwuYk",
        "outputId": "44c474f1-c9f2-4c2a-e6b8-6723028d2211"
      },
      "outputs": [
        {
          "output_type": "stream",
          "name": "stdout",
          "text": [
            "6\n"
          ]
        },
        {
          "output_type": "execute_result",
          "data": {
            "text/plain": [
              "963"
            ]
          },
          "metadata": {},
          "execution_count": 16
        }
      ],
      "source": [
        "# количество объектов класса 2 отнесенных ко 2 классу\n",
        "# second 2 -> count of predicted 2s\n",
        "cl = VARIANT_NUMBER % 9\n",
        "print(cl)\n",
        "m_confusion[cl][cl]\n"
      ]
    },
    {
      "cell_type": "code",
      "execution_count": 17,
      "metadata": {
        "colab": {
          "base_uri": "https://localhost:8080/",
          "height": 300
        },
        "id": "JqZ5zXDLwuYp",
        "outputId": "208906ac-b1d4-4ac1-b238-b2c799a84a70"
      },
      "outputs": [
        {
          "output_type": "stream",
          "name": "stdout",
          "text": [
            "Predicted class: 1\n",
            "True class: 1\n"
          ]
        },
        {
          "output_type": "display_data",
          "data": {
            "text/plain": [
              "<Figure size 432x288 with 1 Axes>"
            ],
            "image/png": "[encoded data removed]"
          },
          "metadata": {
            "needs_background": "light"
          }
        }
      ],
      "source": [
        "from random import sample\n",
        "index = sample(range(len(X_test_transf)), k=1)[0]\n",
        "obj = X_test[index].reshape(28, 28)\n",
        "plt.imshow(obj, cmap=\"gray\")\n",
        "print(f\"Predicted class: {y_pred[index]}\")\n",
        "print(f\"True class: {y_test[index]}\")"
      ]
    },
    {
      "cell_type": "code",
      "execution_count": 18,
      "metadata": {
        "colab": {
          "base_uri": "https://localhost:8080/"
        },
        "id": "8GROeso_wuYr",
        "outputId": "5b051951-0895-4d60-a40d-232c61545053"
      },
      "outputs": [
        {
          "output_type": "stream",
          "name": "stdout",
          "text": [
            "[5594, 5041, 7644, 6059, 2842]\n",
            "Image #5594: class=5, proba=0.3143\n",
            "Image #5041: class=9, proba=0.5371\n",
            "Image #7644: class=6, proba=0.7081\n",
            "Image #6059: class=9, proba=0.509\n",
            "Image #2842: class=4, proba=0.3397\n"
          ]
        }
      ],
      "source": [
        "from random import sample\n",
        "indexes = sample(range(len(X_test)), k=5)\n",
        "print(indexes)\n",
        "test_objects = [X_test_transf[i] for i in indexes]\n",
        "for number, proba in zip(indexes, clf.predict_proba(test_objects)):\n",
        "    print(f\"Image #{number}: class={y_pred[number]}, proba={round(max(proba), 4)}\")"
      ]
    },
    {
      "cell_type": "markdown",
      "metadata": {
        "id": "Ys4ZcpFWwuYt"
      },
      "source": [
        "Метрики для классификатора"
      ]
    },
    {
      "cell_type": "code",
      "execution_count": 19,
      "metadata": {
        "colab": {
          "base_uri": "https://localhost:8080/"
        },
        "id": "OUQ5clgOwuYu",
        "outputId": "9e972db8-9798-46ce-f3a7-a73d96311abf"
      },
      "outputs": [
        {
          "output_type": "stream",
          "name": "stdout",
          "text": [
            "              precision    recall  f1-score   support\n",
            "\n",
            "           0       0.80      0.85      0.82      1206\n",
            "           1       0.93      0.93      0.93      1353\n",
            "           2       0.72      0.78      0.75      1175\n",
            "           3       0.67      0.74      0.70      1235\n",
            "           4       0.65      0.75      0.70      1187\n",
            "           5       0.56      0.43      0.49      1078\n",
            "           6       0.81      0.82      0.82      1173\n",
            "           7       0.83      0.85      0.84      1230\n",
            "           8       0.69      0.71      0.70      1171\n",
            "           9       0.59      0.42      0.49      1192\n",
            "\n",
            "    accuracy                           0.73     12000\n",
            "   macro avg       0.72      0.73      0.72     12000\n",
            "weighted avg       0.73      0.73      0.73     12000\n",
            "\n"
          ]
        }
      ],
      "source": [
        "from sklearn.metrics import classification_report\n",
        "print(classification_report(y_test, y_pred))\n"
      ]
    }
  ],
  "metadata": {
    "kernelspec": {
      "display_name": "Python 3 (ipykernel)",
      "language": "python",
      "name": "python3"
    },
    "language_info": {
      "codemirror_mode": {
        "name": "ipython",
        "version": 3
      },
      "file_extension": ".py",
      "mimetype": "text/x-python",
      "name": "python",
      "nbconvert_exporter": "python",
      "pygments_lexer": "ipython3",
      "version": "3.9.13"
    },
    "colab": {
      "provenance": []
    }
  },
  "nbformat": 4,
  "nbformat_minor": 0
}